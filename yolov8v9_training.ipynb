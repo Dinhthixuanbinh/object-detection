{
  "metadata": {
    "kernelspec": {
      "language": "python",
      "display_name": "Python 3",
      "name": "python3"
    },
    "language_info": {
      "name": "python",
      "version": "3.10.14",
      "mimetype": "text/x-python",
      "codemirror_mode": {
        "name": "ipython",
        "version": 3
      },
      "pygments_lexer": "ipython3",
      "nbconvert_exporter": "python",
      "file_extension": ".py"
    },
    "kaggle": {
      "accelerator": "gpu",
      "dataSources": [
        {
          "sourceId": 9694555,
          "sourceType": "datasetVersion",
          "datasetId": 5927366
        }
      ],
      "dockerImageVersionId": 30786,
      "isInternetEnabled": true,
      "language": "python",
      "sourceType": "notebook",
      "isGpuEnabled": true
    },
    "colab": {
      "provenance": [],
      "include_colab_link": true
    }
  },
  "nbformat_minor": 0,
  "nbformat": 4,
  "cells": [
    {
      "cell_type": "markdown",
      "metadata": {
        "id": "view-in-github",
        "colab_type": "text"
      },
      "source": [
        "<a href=\"https://colab.research.google.com/github/Dinhthixuanbinh/object-detection/blob/main/yolov8v9_training.ipynb\" target=\"_parent\"><img src=\"https://colab.research.google.com/assets/colab-badge.svg\" alt=\"Open In Colab\"/></a>"
      ]
    },
    {
      "cell_type": "code",
      "source": [
        "!pip install wandb\n",
        "import wandb\n",
        "!wandb login 'ba70ad143571324ab2235df85d9aa0a2cf2544d7'"
      ],
      "metadata": {
        "trusted": true,
        "execution": {
          "iopub.status.busy": "2024-11-03T03:48:53.518658Z",
          "iopub.execute_input": "2024-11-03T03:48:53.519451Z",
          "iopub.status.idle": "2024-11-03T03:49:07.912067Z",
          "shell.execute_reply.started": "2024-11-03T03:48:53.519410Z",
          "shell.execute_reply": "2024-11-03T03:49:07.910988Z"
        },
        "id": "aJORFT1-XrpJ"
      },
      "outputs": [],
      "execution_count": null
    },
    {
      "cell_type": "code",
      "source": [
        "!pip install roboflow\n",
        "import os\n",
        "from roboflow import Roboflow\n",
        "rf = Roboflow(api_key=\"tQG4BYjyMMkBdbldZxFX\")\n",
        "\n",
        "#NOTE: HAD v1 data\n",
        "project = rf.workspace(\"cphad\").project(\"had_object_data\")\n",
        "version = project.version(5)\n",
        "dataset_yolov8 = version.download(\"yolov8\")\n",
        "dataset_yolov9 = version.download(\"yolov9\")\n",
        "\n",
        "#NOTE: HAD v2 data\n",
        "rf = Roboflow(api_key=\"xVHtQK53hZfHeW9rJVtD\")\n",
        "project = rf.workspace(\"hadv2\").project(\"had-v2\")\n",
        "version = project.version(4)\n",
        "dataset_yolov8 = version.download(\"yolov8\")\n",
        "dataset_yolov9 = version.download(\"yolov9\")\n"
      ],
      "metadata": {
        "_uuid": "8f2839f25d086af736a60e9eeb907d3b93b6e0e5",
        "_cell_guid": "b1076dfc-b9ad-4769-8c92-a6c4dae69d19",
        "execution": {
          "iopub.status.busy": "2024-11-03T03:49:46.056987Z",
          "iopub.execute_input": "2024-11-03T03:49:46.057395Z",
          "iopub.status.idle": "2024-11-03T03:50:32.794026Z",
          "shell.execute_reply.started": "2024-11-03T03:49:46.057354Z",
          "shell.execute_reply": "2024-11-03T03:50:32.792887Z"
        },
        "trusted": true,
        "id": "7UonMofiXrpL"
      },
      "outputs": [],
      "execution_count": null
    },
    {
      "cell_type": "code",
      "source": [
        "# import yaml\n",
        "\n",
        "# with open(\"/kaggle/working/HAD_Object_data-5/data.yaml\", 'r') as f:\n",
        "#     dataset_yaml = yaml.safe_load(f)\n",
        "# dataset_yaml[\"train\"] = \"/kaggle/working/HAD_Object_data-5/train/images\"\n",
        "# dataset_yaml[\"val\"] = \"/kaggle/working/HAD_Object_data-5/valid/images\"\n",
        "# dataset_yaml[\"test\"] = \"/kaggle/working/HAD_Object_data-5/test/images\"\n",
        "# with open(f\"/kaggle/working/HAD_Object_data-5/data.yaml\", 'w') as f:\n",
        "#     yaml.dump(dataset_yaml, f)"
      ],
      "metadata": {
        "execution": {
          "iopub.status.busy": "2024-11-03T03:52:50.044579Z",
          "iopub.execute_input": "2024-11-03T03:52:50.045025Z",
          "iopub.status.idle": "2024-11-03T03:52:50.050262Z",
          "shell.execute_reply.started": "2024-11-03T03:52:50.044982Z",
          "shell.execute_reply": "2024-11-03T03:52:50.049210Z"
        },
        "trusted": true,
        "id": "7_acc3aTXrpL"
      },
      "outputs": [],
      "execution_count": null
    },
    {
      "cell_type": "code",
      "source": [
        "with open(\"/kaggle/working/HAD-v2-4/data.yaml\", 'r') as f:\n",
        "    dataset_yaml = yaml.safe_load(f)\n",
        "dataset_yaml[\"train\"] = \"/kaggle/working/HAD-v2-4/train/images\"\n",
        "dataset_yaml[\"val\"] = \"/kaggle/working/HAD_Object_data-5/valid/images\"\n",
        "dataset_yaml[\"test\"] = \"/kaggle/working/HAD_Object_data-5/test/images\"\n",
        "with open(\"/kaggle/working/HAD-v2-4/data.yaml\", 'w') as f:\n",
        "    yaml.dump(dataset_yaml, f)"
      ],
      "metadata": {
        "trusted": true,
        "execution": {
          "iopub.status.busy": "2024-11-03T03:52:52.831459Z",
          "iopub.execute_input": "2024-11-03T03:52:52.831909Z",
          "iopub.status.idle": "2024-11-03T03:52:52.843859Z",
          "shell.execute_reply.started": "2024-11-03T03:52:52.831866Z",
          "shell.execute_reply": "2024-11-03T03:52:52.842817Z"
        },
        "id": "47NNMABeXrpM"
      },
      "outputs": [],
      "execution_count": null
    },
    {
      "cell_type": "code",
      "source": [
        "!pip install ultralytics"
      ],
      "metadata": {
        "trusted": true,
        "id": "YcFjr0NiXrpM"
      },
      "outputs": [],
      "execution_count": null
    },
    {
      "cell_type": "code",
      "source": [
        "# !pip install ultralytics==8.0.20\n",
        "\n",
        "from IPython import display\n",
        "display.clear_output()\n",
        "\n",
        "import ultralytics\n",
        "ultralytics.checks()\n",
        "# from ultralytics import settings\n",
        "\n",
        "# settings.update({\"wandb\": False})\n",
        "\n",
        "# os.environ['WANDB_MODE'] = 'disabled'\n",
        "\n",
        "from ultralytics import YOLO\n",
        "from IPython.display import display, Image"
      ],
      "metadata": {
        "trusted": true,
        "id": "CHb_5SBVXrpM"
      },
      "outputs": [],
      "execution_count": null
    },
    {
      "cell_type": "code",
      "source": [
        "!yolo task=detect mode=train model=yolov9t.pt data=/kaggle/working/HAD-v2-4/data.yaml epochs=10 plots=True save=True batch=16 device = \"cuda\""
      ],
      "metadata": {
        "trusted": true,
        "id": "CpemUEKuXrpM"
      },
      "outputs": [],
      "execution_count": null
    },
    {
      "cell_type": "code",
      "source": [
        "!yolo task=detect mode=train model=yolov8n.pt data=/kaggle/working/HAD-v2-4/data.yaml epochs=10 plots=True save=True batch=16 device = \"cuda\""
      ],
      "metadata": {
        "trusted": true,
        "id": "3CxogaY-XrpN"
      },
      "outputs": [],
      "execution_count": null
    }
  ]
}