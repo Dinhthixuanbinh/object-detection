{
  "nbformat": 4,
  "nbformat_minor": 0,
  "metadata": {
    "colab": {
      "provenance": [],
      "include_colab_link": true
    },
    "kernelspec": {
      "name": "python3",
      "display_name": "Python 3"
    },
    "language_info": {
      "name": "python"
    }
  },
  "cells": [
    {
      "cell_type": "markdown",
      "metadata": {
        "id": "view-in-github",
        "colab_type": "text"
      },
      "source": [
        "<a href=\"https://colab.research.google.com/github/Dinhthixuanbinh/object-detection/blob/main/nms_wbf.ipynb\" target=\"_parent\"><img src=\"https://colab.research.google.com/assets/colab-badge.svg\" alt=\"Open In Colab\"/></a>"
      ]
    },
    {
      "cell_type": "code",
      "source": [
        "!git clone https://github.com/ZFTurbo/Weighted-Boxes-Fusion"
      ],
      "metadata": {
        "colab": {
          "base_uri": "https://localhost:8080/"
        },
        "id": "IIqY-5jE1ndH",
        "outputId": "232618a3-75dd-47d9-b678-e9e6dc110ab8"
      },
      "execution_count": null,
      "outputs": [
        {
          "output_type": "stream",
          "name": "stdout",
          "text": [
            "Cloning into 'Weighted-Boxes-Fusion'...\n",
            "remote: Enumerating objects: 261, done.\u001b[K\n",
            "remote: Counting objects: 100% (34/34), done.\u001b[K\n",
            "remote: Compressing objects: 100% (21/21), done.\u001b[K\n",
            "remote: Total 261 (delta 20), reused 16 (delta 12), pack-reused 227 (from 1)\u001b[K\n",
            "Receiving objects: 100% (261/261), 76.40 KiB | 625.00 KiB/s, done.\n",
            "Resolving deltas: 100% (131/131), done.\n"
          ]
        }
      ]
    },
    {
      "cell_type": "code",
      "source": [
        "# paper: https://arxiv.org/pdf/1910.13302"
      ],
      "metadata": {
        "id": "d621M4pz23A-"
      },
      "execution_count": null,
      "outputs": []
    },
    {
      "cell_type": "code",
      "source": [
        "%cd Weighted-Boxes-Fusion"
      ],
      "metadata": {
        "colab": {
          "base_uri": "https://localhost:8080/"
        },
        "id": "i3JMsqDK13EW",
        "outputId": "f56e1e3e-aab2-4d5c-e95e-fb0fab7b9d85"
      },
      "execution_count": null,
      "outputs": [
        {
          "output_type": "stream",
          "name": "stdout",
          "text": [
            "/content/Weighted-Boxes-Fusion\n"
          ]
        }
      ]
    },
    {
      "cell_type": "code",
      "source": [
        "from ensemble_boxes import *\n",
        "\n",
        "boxes_list = [[\n",
        "    [0.00, 0.51, 0.81, 0.91],\n",
        "    [0.10, 0.31, 0.71, 0.61],\n",
        "    [0.01, 0.32, 0.83, 0.93],\n",
        "    [0.02, 0.53, 0.11, 0.94],\n",
        "    [0.03, 0.24, 0.12, 0.35],\n",
        "],[\n",
        "    [0.04, 0.56, 0.84, 0.92],\n",
        "    [0.12, 0.33, 0.72, 0.64],\n",
        "    [0.38, 0.66, 0.79, 0.95],\n",
        "    [0.08, 0.49, 0.21, 0.89],\n",
        "]]\n",
        "scores_list = [[0.9, 0.8, 0.2, 0.4, 0.7], [0.5, 0.8, 0.7, 0.3]]\n",
        "labels_list = [[0, 1, 0, 1, 1], [1, 1, 1, 0]]\n",
        "weights = [2, 1]\n",
        "\n",
        "iou_thr = 0.5\n",
        "skip_box_thr = 0.0001\n",
        "sigma = 0.1\n",
        "\n",
        "boxes, scores, labels = nms(boxes_list, scores_list, labels_list, weights=weights, iou_thr=iou_thr)\n",
        "print(\"nms boxes: \", boxes)\n",
        "boxes, scores, labels = soft_nms(boxes_list, scores_list, labels_list, weights=weights, iou_thr=iou_thr, sigma=sigma, thresh=skip_box_thr)\n",
        "print(\"soft_nms boxes: \", boxes)\n",
        "boxes, scores, labels = non_maximum_weighted(boxes_list, scores_list, labels_list, weights=weights, iou_thr=iou_thr, skip_box_thr=skip_box_thr)\n",
        "print(\"non_maximum_weighted boxes: \", boxes)\n",
        "boxes, scores, labels = weighted_boxes_fusion(boxes_list, scores_list, labels_list, weights=weights, iou_thr=iou_thr, skip_box_thr=skip_box_thr)\n",
        "print(\"weighted_boxes_fusion boxes: \", boxes)\n"
      ],
      "metadata": {
        "colab": {
          "base_uri": "https://localhost:8080/"
        },
        "id": "1vu63DJA2L9u",
        "outputId": "f307cb95-c0e4-4635-fee8-3e77972d5a4b"
      },
      "execution_count": null,
      "outputs": [
        {
          "output_type": "stream",
          "name": "stdout",
          "text": [
            "nms boxes:  [[0.   0.51 0.81 0.91]\n",
            " [0.08 0.49 0.21 0.89]\n",
            " [0.1  0.31 0.71 0.61]\n",
            " [0.03 0.24 0.12 0.35]\n",
            " [0.02 0.53 0.11 0.94]\n",
            " [0.38 0.66 0.79 0.95]\n",
            " [0.04 0.56 0.84 0.92]]\n",
            "soft_nms boxes:  [[0.   0.51 0.81 0.91]\n",
            " [0.08 0.49 0.21 0.89]\n",
            " [0.01 0.32 0.83 0.93]\n",
            " [0.1  0.31 0.71 0.61]\n",
            " [0.03 0.24 0.12 0.35]\n",
            " [0.02 0.53 0.11 0.94]\n",
            " [0.38 0.66 0.79 0.95]\n",
            " [0.04 0.56 0.84 0.92]\n",
            " [0.12 0.33 0.72 0.64]]\n",
            "non_maximum_weighted boxes:  [[0.00123605 0.48651513 0.8124721  0.91247207]\n",
            " [0.10184006 0.31184006 0.71092004 0.61276007]\n",
            " [0.03       0.23999998 0.11999999 0.35      ]\n",
            " [0.02       0.53000003 0.11       0.94      ]\n",
            " [0.38       0.65999997 0.78999996 0.95      ]\n",
            " [0.04       0.56       0.84       0.91999996]\n",
            " [0.08       0.49       0.21       0.8899999 ]]\n",
            "weighted_boxes_fusion boxes:  [[0.00181818 0.47545454 0.81363636 0.91363633]\n",
            " [0.10222223 0.31222221 0.71111113 0.61333328]\n",
            " [0.03       0.24       0.12       0.35      ]\n",
            " [0.02       0.53       0.11       0.94      ]\n",
            " [0.38       0.66       0.79       0.95      ]\n",
            " [0.04       0.56       0.84       0.92      ]\n",
            " [0.08       0.49       0.21       0.89      ]]\n"
          ]
        }
      ]
    }
  ]
}